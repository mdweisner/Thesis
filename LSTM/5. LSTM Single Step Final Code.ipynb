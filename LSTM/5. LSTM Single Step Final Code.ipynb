{
 "cells": [
  {
   "cell_type": "markdown",
   "metadata": {},
   "source": [
    "# LSTM Overview\n",
    "This notebook follows data normalization, a univaraite LSTM model, a single step model, and a multistep predictive model. Given the nature of the model the single step and multistep both only look a single step (day) in the future, but the multistep model was necessary to test some further windows of prediction."
   ]
  },
  {
   "cell_type": "code",
   "execution_count": 1,
   "metadata": {},
   "outputs": [],
   "source": [
    "import tensorflow as tf\n",
    "import math\n",
    "import matplotlib as mpl\n",
    "import matplotlib.pyplot as plt\n",
    "import numpy as np\n",
    "import os\n",
    "import pandas as pd\n",
    "\n",
    "mpl.rcParams['figure.figsize'] = (10, 8)\n",
    "mpl.rcParams['axes.grid'] = False\n",
    "\n",
    "%matplotlib inline"
   ]
  },
  {
   "cell_type": "code",
   "execution_count": 2,
   "metadata": {},
   "outputs": [],
   "source": [
    "#train_test = pd.read_csv(\"./keras_training_testing.csv\")\n",
    "#train_test = pd.read_csv(\"/Users/mw2931/Desktop/Thesis/LSTM/keras_nolag_completes.csv\")\n",
    "train_test = pd.read_csv(\"/Users/mw2931/Desktop/Thesis/LSTM/keras_nolag_completes_interday.csv\")\n",
    "\n"
   ]
  },
  {
   "cell_type": "code",
   "execution_count": 3,
   "metadata": {},
   "outputs": [
    {
     "data": {
      "text/html": [
       "<div>\n",
       "<style scoped>\n",
       "    .dataframe tbody tr th:only-of-type {\n",
       "        vertical-align: middle;\n",
       "    }\n",
       "\n",
       "    .dataframe tbody tr th {\n",
       "        vertical-align: top;\n",
       "    }\n",
       "\n",
       "    .dataframe thead th {\n",
       "        text-align: right;\n",
       "    }\n",
       "</style>\n",
       "<table border=\"1\" class=\"dataframe\">\n",
       "  <thead>\n",
       "    <tr style=\"text-align: right;\">\n",
       "      <th></th>\n",
       "      <th>index</th>\n",
       "      <th>value</th>\n",
       "      <th>VIX_Close</th>\n",
       "      <th>Monday</th>\n",
       "      <th>Tuesday</th>\n",
       "      <th>Wednesday</th>\n",
       "      <th>Thursday</th>\n",
       "      <th>Friday</th>\n",
       "      <th>tax_dummy</th>\n",
       "      <th>week_1</th>\n",
       "      <th>...</th>\n",
       "      <th>Queens Ozone Data</th>\n",
       "      <th>CO_Daily_8hr_Average_PPM</th>\n",
       "      <th>Queens CO Data</th>\n",
       "      <th>mean_hr_dewpoint_tempF</th>\n",
       "      <th>mean_hr_tempF</th>\n",
       "      <th>mean_hr_pressure_psi</th>\n",
       "      <th>mean_hr_windspeed_knots</th>\n",
       "      <th>mean_hr_precip_in</th>\n",
       "      <th>mean_hr_clouds_percent</th>\n",
       "      <th>pm2.5_Daily_Lag1</th>\n",
       "    </tr>\n",
       "  </thead>\n",
       "  <tbody>\n",
       "    <tr>\n",
       "      <th>0</th>\n",
       "      <td>2006-12-27</td>\n",
       "      <td>0.701527</td>\n",
       "      <td>10.64</td>\n",
       "      <td>0</td>\n",
       "      <td>0</td>\n",
       "      <td>1</td>\n",
       "      <td>0</td>\n",
       "      <td>0</td>\n",
       "      <td>0</td>\n",
       "      <td>0</td>\n",
       "      <td>...</td>\n",
       "      <td>1</td>\n",
       "      <td>2.533333</td>\n",
       "      <td>1</td>\n",
       "      <td>30.15625</td>\n",
       "      <td>44.81250</td>\n",
       "      <td>29.705938</td>\n",
       "      <td>17.56250</td>\n",
       "      <td>0.0</td>\n",
       "      <td>0.890625</td>\n",
       "      <td>268.0</td>\n",
       "    </tr>\n",
       "    <tr>\n",
       "      <th>1</th>\n",
       "      <td>2006-12-28</td>\n",
       "      <td>-0.147878</td>\n",
       "      <td>10.99</td>\n",
       "      <td>0</td>\n",
       "      <td>0</td>\n",
       "      <td>0</td>\n",
       "      <td>1</td>\n",
       "      <td>0</td>\n",
       "      <td>0</td>\n",
       "      <td>0</td>\n",
       "      <td>...</td>\n",
       "      <td>1</td>\n",
       "      <td>3.533333</td>\n",
       "      <td>1</td>\n",
       "      <td>23.84375</td>\n",
       "      <td>42.25000</td>\n",
       "      <td>30.268750</td>\n",
       "      <td>11.40625</td>\n",
       "      <td>0.0</td>\n",
       "      <td>0.690476</td>\n",
       "      <td>246.1</td>\n",
       "    </tr>\n",
       "    <tr>\n",
       "      <th>2</th>\n",
       "      <td>2006-12-29</td>\n",
       "      <td>-0.451309</td>\n",
       "      <td>11.56</td>\n",
       "      <td>0</td>\n",
       "      <td>0</td>\n",
       "      <td>0</td>\n",
       "      <td>0</td>\n",
       "      <td>1</td>\n",
       "      <td>0</td>\n",
       "      <td>0</td>\n",
       "      <td>...</td>\n",
       "      <td>1</td>\n",
       "      <td>4.170833</td>\n",
       "      <td>1</td>\n",
       "      <td>31.09375</td>\n",
       "      <td>46.87500</td>\n",
       "      <td>30.525938</td>\n",
       "      <td>7.81250</td>\n",
       "      <td>0.0</td>\n",
       "      <td>0.796875</td>\n",
       "      <td>393.5</td>\n",
       "    </tr>\n",
       "    <tr>\n",
       "      <th>3</th>\n",
       "      <td>2007-01-03</td>\n",
       "      <td>-0.119867</td>\n",
       "      <td>12.04</td>\n",
       "      <td>0</td>\n",
       "      <td>0</td>\n",
       "      <td>1</td>\n",
       "      <td>0</td>\n",
       "      <td>0</td>\n",
       "      <td>1</td>\n",
       "      <td>1</td>\n",
       "      <td>...</td>\n",
       "      <td>1</td>\n",
       "      <td>5.487500</td>\n",
       "      <td>1</td>\n",
       "      <td>24.56250</td>\n",
       "      <td>45.28125</td>\n",
       "      <td>30.337812</td>\n",
       "      <td>9.06250</td>\n",
       "      <td>0.0</td>\n",
       "      <td>0.507812</td>\n",
       "      <td>429.0</td>\n",
       "    </tr>\n",
       "    <tr>\n",
       "      <th>4</th>\n",
       "      <td>2007-01-04</td>\n",
       "      <td>0.122829</td>\n",
       "      <td>11.51</td>\n",
       "      <td>0</td>\n",
       "      <td>0</td>\n",
       "      <td>0</td>\n",
       "      <td>1</td>\n",
       "      <td>0</td>\n",
       "      <td>1</td>\n",
       "      <td>1</td>\n",
       "      <td>...</td>\n",
       "      <td>1</td>\n",
       "      <td>5.229167</td>\n",
       "      <td>1</td>\n",
       "      <td>33.75000</td>\n",
       "      <td>49.12500</td>\n",
       "      <td>30.185000</td>\n",
       "      <td>10.68750</td>\n",
       "      <td>0.0</td>\n",
       "      <td>0.687500</td>\n",
       "      <td>370.9</td>\n",
       "    </tr>\n",
       "  </tbody>\n",
       "</table>\n",
       "<p>5 rows × 74 columns</p>\n",
       "</div>"
      ],
      "text/plain": [
       "        index     value  VIX_Close  Monday  Tuesday  Wednesday  Thursday  \\\n",
       "0  2006-12-27  0.701527      10.64       0        0          1         0   \n",
       "1  2006-12-28 -0.147878      10.99       0        0          0         1   \n",
       "2  2006-12-29 -0.451309      11.56       0        0          0         0   \n",
       "3  2007-01-03 -0.119867      12.04       0        0          1         0   \n",
       "4  2007-01-04  0.122829      11.51       0        0          0         1   \n",
       "\n",
       "   Friday  tax_dummy  week_1  ...  Queens Ozone Data  \\\n",
       "0       0          0       0  ...                  1   \n",
       "1       0          0       0  ...                  1   \n",
       "2       1          0       0  ...                  1   \n",
       "3       0          1       1  ...                  1   \n",
       "4       0          1       1  ...                  1   \n",
       "\n",
       "   CO_Daily_8hr_Average_PPM  Queens CO Data  mean_hr_dewpoint_tempF  \\\n",
       "0                  2.533333               1                30.15625   \n",
       "1                  3.533333               1                23.84375   \n",
       "2                  4.170833               1                31.09375   \n",
       "3                  5.487500               1                24.56250   \n",
       "4                  5.229167               1                33.75000   \n",
       "\n",
       "   mean_hr_tempF  mean_hr_pressure_psi  mean_hr_windspeed_knots  \\\n",
       "0       44.81250             29.705938                 17.56250   \n",
       "1       42.25000             30.268750                 11.40625   \n",
       "2       46.87500             30.525938                  7.81250   \n",
       "3       45.28125             30.337812                  9.06250   \n",
       "4       49.12500             30.185000                 10.68750   \n",
       "\n",
       "   mean_hr_precip_in  mean_hr_clouds_percent  pm2.5_Daily_Lag1  \n",
       "0                0.0                0.890625             268.0  \n",
       "1                0.0                0.690476             246.1  \n",
       "2                0.0                0.796875             393.5  \n",
       "3                0.0                0.507812             429.0  \n",
       "4                0.0                0.687500             370.9  \n",
       "\n",
       "[5 rows x 74 columns]"
      ]
     },
     "execution_count": 3,
     "metadata": {},
     "output_type": "execute_result"
    }
   ],
   "source": [
    "train_test.head()"
   ]
  },
  {
   "cell_type": "markdown",
   "metadata": {},
   "source": [
    "## Univariate Data"
   ]
  },
  {
   "cell_type": "code",
   "execution_count": 4,
   "metadata": {},
   "outputs": [],
   "source": [
    "def univariate_data(dataset, start_index, end_index, history_size, target_size):\n",
    "  data = []\n",
    "  labels = []\n",
    "\n",
    "  start_index = start_index + history_size\n",
    "  if end_index is None:\n",
    "    end_index = len(dataset) - target_size\n",
    "\n",
    "  for i in range(start_index, end_index):\n",
    "    indices = range(i-history_size, i)\n",
    "    # Reshape data from (history_size,) to (history_size, 1)\n",
    "    data.append(np.reshape(dataset[indices], (history_size, 1)))\n",
    "    labels.append(dataset[i+target_size])\n",
    "  return np.array(data), np.array(labels)"
   ]
  },
  {
   "cell_type": "code",
   "execution_count": 5,
   "metadata": {},
   "outputs": [],
   "source": [
    "TRAIN_SPLIT = 2335"
   ]
  },
  {
   "cell_type": "code",
   "execution_count": 6,
   "metadata": {},
   "outputs": [],
   "source": [
    "tf.random.set_seed(13)"
   ]
  },
  {
   "cell_type": "code",
   "execution_count": 7,
   "metadata": {},
   "outputs": [
    {
     "data": {
      "text/plain": [
       "index\n",
       "2006-12-27    0.701527\n",
       "2006-12-28   -0.147878\n",
       "2006-12-29   -0.451309\n",
       "2007-01-03   -0.119867\n",
       "2007-01-04    0.122829\n",
       "Name: value, dtype: float64"
      ]
     },
     "execution_count": 7,
     "metadata": {},
     "output_type": "execute_result"
    }
   ],
   "source": [
    "uni_data = train_test['value']\n",
    "uni_data.index = train_test['index']\n",
    "uni_data.head()"
   ]
  },
  {
   "cell_type": "code",
   "execution_count": 8,
   "metadata": {},
   "outputs": [
    {
     "data": {
      "text/plain": [
       "array([<matplotlib.axes._subplots.AxesSubplot object at 0x1058a4cf8>],\n",
       "      dtype=object)"
      ]
     },
     "execution_count": 8,
     "metadata": {},
     "output_type": "execute_result"
    },
    {
     "data": {
      "image/png": "[encoded data removed]",
      "text/plain": [
       "<Figure size 432x288 with 1 Axes>"
      ]
     },
     "metadata": {
      "needs_background": "light"
     },
     "output_type": "display_data"
    }
   ],
   "source": [
    "uni_data.plot(subplots=True)"
   ]
  },
  {
   "cell_type": "code",
   "execution_count": 9,
   "metadata": {},
   "outputs": [],
   "source": [
    "uni_data = uni_data.values"
   ]
  },
  {
   "cell_type": "code",
   "execution_count": 10,
   "metadata": {},
   "outputs": [],
   "source": [
    "uni_train_mean = uni_data[:TRAIN_SPLIT].mean()\n",
    "uni_train_std = uni_data[:TRAIN_SPLIT].std()"
   ]
  },
  {
   "cell_type": "markdown",
   "metadata": {},
   "source": [
    "z score transformation"
   ]
  },
  {
   "cell_type": "code",
   "execution_count": 11,
   "metadata": {},
   "outputs": [],
   "source": [
    "uni_data = (uni_data-uni_train_mean)/uni_train_std\n"
   ]
  },
  {
   "cell_type": "code",
   "execution_count": 12,
   "metadata": {},
   "outputs": [],
   "source": [
    "univariate_past_history = 38\n",
    "univariate_future_target = 0\n",
    "\n",
    "x_train_uni, y_train_uni = univariate_data(uni_data, 0, TRAIN_SPLIT,\n",
    "                                           univariate_past_history,\n",
    "                                           univariate_future_target)\n",
    "x_val_uni, y_val_uni = univariate_data(uni_data, TRAIN_SPLIT, None,\n",
    "                                       univariate_past_history,\n",
    "                                       univariate_future_target)"
   ]
  },
  {
   "cell_type": "code",
   "execution_count": 13,
   "metadata": {},
   "outputs": [
    {
     "name": "stdout",
     "output_type": "stream",
     "text": [
      "Single window of past history\n",
      "[[ 0.58172771]\n",
      " [-0.16219163]\n",
      " [-0.42793958]\n",
      " [-0.13765901]\n",
      " [ 0.07489658]\n",
      " [-0.56557285]\n",
      " [ 0.16177992]\n",
      " [-0.07792926]\n",
      " [-0.31831382]\n",
      " [ 0.6327189 ]\n",
      " [ 0.63679926]\n",
      " [ 0.05819551]\n",
      " [-0.10902978]\n",
      " [ 0.21643031]\n",
      " [-0.15568159]\n",
      " [-0.10778393]\n",
      " [-0.34478888]\n",
      " [-0.1425142 ]\n",
      " [-3.0739692 ]\n",
      " [ 0.45435101]\n",
      " [-0.25990172]\n",
      " [-1.0313444 ]\n",
      " [-0.8566135 ]\n",
      " [ 1.32426765]\n",
      " [-0.24858938]\n",
      " [ 0.5914797 ]\n",
      " [ 0.02666875]\n",
      " [ 0.20206427]\n",
      " [-1.81655594]\n",
      " [ 0.55334202]\n",
      " [ 0.28994879]\n",
      " [-0.36796588]\n",
      " [ 0.92147367]\n",
      " [ 0.52201306]\n",
      " [ 1.4632853 ]\n",
      " [-0.06319338]\n",
      " [ 0.06316979]\n",
      " [ 0.05209192]]\n",
      "\n",
      " Target temperature to predict\n",
      "-0.5743114216043564\n"
     ]
    }
   ],
   "source": [
    "print ('Single window of past history')\n",
    "print (x_train_uni[0])\n",
    "print ('\\n Target temperature to predict')\n",
    "print (y_train_uni[0])\n"
   ]
  },
  {
   "cell_type": "code",
   "execution_count": 14,
   "metadata": {},
   "outputs": [],
   "source": [
    "def create_time_steps(length):\n",
    "  return list(range(-length, 0))"
   ]
  },
  {
   "cell_type": "code",
   "execution_count": 15,
   "metadata": {},
   "outputs": [],
   "source": [
    "def show_plot(plot_data, delta, title):\n",
    "  labels = ['History', 'True Future', 'Model Prediction']\n",
    "  marker = ['.-', 'rx', 'go']\n",
    "  time_steps = create_time_steps(plot_data[0].shape[0])\n",
    "  if delta:\n",
    "    future = delta\n",
    "  else:\n",
    "    future = 0\n",
    "\n",
    "  plt.title(title)\n",
    "  for i, x in enumerate(plot_data):\n",
    "    if i:\n",
    "      plt.plot(future, plot_data[i], marker[i], markersize=10,\n",
    "               label=labels[i])\n",
    "    else:\n",
    "      plt.plot(time_steps, plot_data[i].flatten(), marker[i], label=labels[i])\n",
    "  plt.legend()\n",
    "  plt.xlim([time_steps[0], (future+5)*2])\n",
    "  plt.xlabel('Time-Step')\n",
    "  return plt"
   ]
  },
  {
   "cell_type": "code",
   "execution_count": 16,
   "metadata": {},
   "outputs": [
    {
     "data": {
      "text/plain": [
       "<module 'matplotlib.pyplot' from '/Users/mw2931/anaconda3/lib/python3.7/site-packages/matplotlib/pyplot.py'>"
      ]
     },
     "execution_count": 16,
     "metadata": {},
     "output_type": "execute_result"
    },
    {
     "data": {
      "image/png": "[encoded data removed]",
      "text/plain": [
       "<Figure size 432x288 with 1 Axes>"
      ]
     },
     "metadata": {
      "needs_background": "light"
     },
     "output_type": "display_data"
    }
   ],
   "source": [
    "show_plot([x_train_uni[0], y_train_uni[0]], 0, 'Sample Example')\n"
   ]
  },
  {
   "cell_type": "code",
   "execution_count": 17,
   "metadata": {},
   "outputs": [],
   "source": [
    "def baseline(history):\n",
    "  return np.mean(history)"
   ]
  },
  {
   "cell_type": "code",
   "execution_count": 18,
   "metadata": {},
   "outputs": [
    {
     "data": {
      "text/plain": [
       "<module 'matplotlib.pyplot' from '/Users/mw2931/anaconda3/lib/python3.7/site-packages/matplotlib/pyplot.py'>"
      ]
     },
     "execution_count": 18,
     "metadata": {},
     "output_type": "execute_result"
    },
    {
     "data": {
      "image/png": "[encoded data removed]",
      "text/plain": [
       "<Figure size 432x288 with 1 Axes>"
      ]
     },
     "metadata": {
      "needs_background": "light"
     },
     "output_type": "display_data"
    }
   ],
   "source": [
    "show_plot([x_train_uni[0], y_train_uni[0], baseline(x_train_uni[0])], 0,\n",
    "           'Baseline Prediction Example')"
   ]
  },
  {
   "cell_type": "code",
   "execution_count": 19,
   "metadata": {},
   "outputs": [],
   "source": [
    "BATCH_SIZE = 389\n",
    "BUFFER_SIZE = 10000\n",
    "\n",
    "train_univariate = tf.data.Dataset.from_tensor_slices((x_train_uni, y_train_uni))\n",
    "train_univariate = train_univariate.cache().shuffle(BUFFER_SIZE).batch(BATCH_SIZE).repeat()\n",
    "\n",
    "val_univariate = tf.data.Dataset.from_tensor_slices((x_val_uni, y_val_uni))\n",
    "val_univariate = val_univariate.batch(BATCH_SIZE).repeat()"
   ]
  },
  {
   "cell_type": "code",
   "execution_count": 20,
   "metadata": {},
   "outputs": [],
   "source": [
    "simple_lstm_model = tf.keras.models.Sequential([\n",
    "    tf.keras.layers.LSTM(8, input_shape=x_train_uni.shape[-2:]),\n",
    "    tf.keras.layers.Dense(1)\n",
    "])\n",
    "\n",
    "simple_lstm_model.compile(optimizer=tf.keras.optimizers.RMSprop(clipvalue=1.0), loss='mse', metrics=[tf.keras.metrics.RootMeanSquaredError()])\n"
   ]
  },
  {
   "cell_type": "code",
   "execution_count": 21,
   "metadata": {},
   "outputs": [
    {
     "name": "stdout",
     "output_type": "stream",
     "text": [
      "(389, 1)\n"
     ]
    }
   ],
   "source": [
    "for x, y in val_univariate.take(1):\n",
    "    print(simple_lstm_model.predict(x).shape)"
   ]
  },
  {
   "cell_type": "markdown",
   "metadata": {},
   "source": [
    "# Epochs and Evaluation Interval set here!"
   ]
  },
  {
   "cell_type": "code",
   "execution_count": 22,
   "metadata": {},
   "outputs": [],
   "source": [
    "EVALUATION_INTERVAL = len(y_train_uni)\n",
    "EPOCHS = 1"
   ]
  },
  {
   "cell_type": "code",
   "execution_count": 23,
   "metadata": {},
   "outputs": [
    {
     "name": "stdout",
     "output_type": "stream",
     "text": [
      "2297/2297 [==============================] - 52s 23ms/step - loss: 0.9727 - root_mean_squared_error: 0.9863 - val_loss: 0.5085 - val_root_mean_squared_error: 0.7131\n"
     ]
    }
   ],
   "source": [
    "simple_lstm_history = simple_lstm_model.fit(train_univariate, epochs=EPOCHS,\n",
    "                      steps_per_epoch=EVALUATION_INTERVAL,\n",
    "                      validation_data=val_univariate, validation_steps=1)"
   ]
  },
  {
   "cell_type": "code",
   "execution_count": 24,
   "metadata": {},
   "outputs": [
    {
     "data": {
      "image/png": "[encoded data removed]",
      "text/plain": [
       "<Figure size 432x288 with 1 Axes>"
      ]
     },
     "metadata": {
      "needs_background": "light"
     },
     "output_type": "display_data"
    },
    {
     "data": {
      "image/png": "[encoded data removed]",
      "text/plain": [
       "<Figure size 432x288 with 1 Axes>"
      ]
     },
     "metadata": {
      "needs_background": "light"
     },
     "output_type": "display_data"
    },
    {
     "data": {
      "image/png": "[encoded data removed]",
      "text/plain": [
       "<Figure size 432x288 with 1 Axes>"
      ]
     },
     "metadata": {
      "needs_background": "light"
     },
     "output_type": "display_data"
    }
   ],
   "source": [
    "for x, y in val_univariate.take(3):\n",
    "  plot = show_plot([x[0].numpy(), y[0].numpy(),\n",
    "                    simple_lstm_model.predict(x)[0]], 0, 'Simple LSTM model')\n",
    "  plot.show()"
   ]
  },
  {
   "cell_type": "code",
   "execution_count": 25,
   "metadata": {},
   "outputs": [
    {
     "data": {
      "image/png": "[encoded data removed]",
      "text/plain": [
       "<Figure size 432x288 with 1 Axes>"
      ]
     },
     "metadata": {
      "needs_background": "light"
     },
     "output_type": "display_data"
    }
   ],
   "source": [
    "plt.plot(simple_lstm_history.history['root_mean_squared_error'])\n",
    "plt.show()"
   ]
  },
  {
   "cell_type": "code",
   "execution_count": 26,
   "metadata": {},
   "outputs": [
    {
     "data": {
      "image/png": "[encoded data removed]",
      "text/plain": [
       "<Figure size 432x288 with 1 Axes>"
      ]
     },
     "metadata": {
      "needs_background": "light"
     },
     "output_type": "display_data"
    }
   ],
   "source": [
    "plt.plot(simple_lstm_history.history['val_root_mean_squared_error'])\n",
    "plt.show()"
   ]
  },
  {
   "cell_type": "code",
   "execution_count": 27,
   "metadata": {},
   "outputs": [
    {
     "data": {
      "text/plain": [
       "0.9862738847732544"
      ]
     },
     "execution_count": 27,
     "metadata": {},
     "output_type": "execute_result"
    }
   ],
   "source": [
    "simple_lstm_history.history['root_mean_squared_error'][EPOCHS-1]"
   ]
  },
  {
   "cell_type": "code",
   "execution_count": 28,
   "metadata": {},
   "outputs": [
    {
     "data": {
      "text/plain": [
       "0.7131067514419556"
      ]
     },
     "execution_count": 28,
     "metadata": {},
     "output_type": "execute_result"
    }
   ],
   "source": [
    "simple_lstm_history.history['val_root_mean_squared_error'][EPOCHS-1]"
   ]
  },
  {
   "cell_type": "markdown",
   "metadata": {},
   "source": [
    "## Multivariate Model\n",
    "Below is a test whree the data was split into training and testing to ensure that it was properly divided"
   ]
  },
  {
   "cell_type": "code",
   "execution_count": 29,
   "metadata": {},
   "outputs": [
    {
     "data": {
      "text/plain": [
       "630"
      ]
     },
     "execution_count": 29,
     "metadata": {},
     "output_type": "execute_result"
    }
   ],
   "source": [
    "#train = train_test['key'] == \"Training\"\n",
    "#train = train_test[train]\n",
    "#train = train.drop(columns=['key'])\n",
    "#test = train_test['key'] == \"Testing\"\n",
    "#test = train_test[test]\n",
    "#test = test.drop(columns=['key'])\n",
    "\n",
    "train = train_test.iloc[0:2335,]\n",
    "test = train_test.iloc[2335:, ]\n",
    "\n",
    "len(train)\n",
    "len(test)"
   ]
  },
  {
   "cell_type": "code",
   "execution_count": 30,
   "metadata": {},
   "outputs": [
    {
     "data": {
      "text/html": [
       "<div>\n",
       "<style scoped>\n",
       "    .dataframe tbody tr th:only-of-type {\n",
       "        vertical-align: middle;\n",
       "    }\n",
       "\n",
       "    .dataframe tbody tr th {\n",
       "        vertical-align: top;\n",
       "    }\n",
       "\n",
       "    .dataframe thead th {\n",
       "        text-align: right;\n",
       "    }\n",
       "</style>\n",
       "<table border=\"1\" class=\"dataframe\">\n",
       "  <thead>\n",
       "    <tr style=\"text-align: right;\">\n",
       "      <th></th>\n",
       "      <th>index</th>\n",
       "      <th>value</th>\n",
       "      <th>VIX_Close</th>\n",
       "      <th>Monday</th>\n",
       "      <th>Tuesday</th>\n",
       "      <th>Wednesday</th>\n",
       "      <th>Thursday</th>\n",
       "      <th>Friday</th>\n",
       "      <th>tax_dummy</th>\n",
       "      <th>week_1</th>\n",
       "      <th>...</th>\n",
       "      <th>Queens Ozone Data</th>\n",
       "      <th>CO_Daily_8hr_Average_PPM</th>\n",
       "      <th>Queens CO Data</th>\n",
       "      <th>mean_hr_dewpoint_tempF</th>\n",
       "      <th>mean_hr_tempF</th>\n",
       "      <th>mean_hr_pressure_psi</th>\n",
       "      <th>mean_hr_windspeed_knots</th>\n",
       "      <th>mean_hr_precip_in</th>\n",
       "      <th>mean_hr_clouds_percent</th>\n",
       "      <th>pm2.5_Daily_Lag1</th>\n",
       "    </tr>\n",
       "  </thead>\n",
       "  <tbody>\n",
       "    <tr>\n",
       "      <th>2330</th>\n",
       "      <td>2017-04-07</td>\n",
       "      <td>-0.082713</td>\n",
       "      <td>12.87</td>\n",
       "      <td>0</td>\n",
       "      <td>0</td>\n",
       "      <td>0</td>\n",
       "      <td>0</td>\n",
       "      <td>1</td>\n",
       "      <td>0</td>\n",
       "      <td>0</td>\n",
       "      <td>...</td>\n",
       "      <td>0</td>\n",
       "      <td>2.002550</td>\n",
       "      <td>1</td>\n",
       "      <td>38.794872</td>\n",
       "      <td>49.641026</td>\n",
       "      <td>29.311290</td>\n",
       "      <td>12.871795</td>\n",
       "      <td>0.020952</td>\n",
       "      <td>0.745968</td>\n",
       "      <td>50.5</td>\n",
       "    </tr>\n",
       "    <tr>\n",
       "      <th>2331</th>\n",
       "      <td>2017-04-11</td>\n",
       "      <td>-0.143388</td>\n",
       "      <td>15.07</td>\n",
       "      <td>0</td>\n",
       "      <td>1</td>\n",
       "      <td>0</td>\n",
       "      <td>0</td>\n",
       "      <td>0</td>\n",
       "      <td>0</td>\n",
       "      <td>0</td>\n",
       "      <td>...</td>\n",
       "      <td>0</td>\n",
       "      <td>2.483085</td>\n",
       "      <td>1</td>\n",
       "      <td>46.437500</td>\n",
       "      <td>67.156250</td>\n",
       "      <td>30.105000</td>\n",
       "      <td>8.937500</td>\n",
       "      <td>0.000000</td>\n",
       "      <td>0.729167</td>\n",
       "      <td>203.5</td>\n",
       "    </tr>\n",
       "    <tr>\n",
       "      <th>2332</th>\n",
       "      <td>2017-04-12</td>\n",
       "      <td>-0.375995</td>\n",
       "      <td>15.77</td>\n",
       "      <td>0</td>\n",
       "      <td>0</td>\n",
       "      <td>1</td>\n",
       "      <td>0</td>\n",
       "      <td>0</td>\n",
       "      <td>0</td>\n",
       "      <td>0</td>\n",
       "      <td>...</td>\n",
       "      <td>0</td>\n",
       "      <td>3.311552</td>\n",
       "      <td>1</td>\n",
       "      <td>51.000000</td>\n",
       "      <td>63.656250</td>\n",
       "      <td>30.101250</td>\n",
       "      <td>5.437500</td>\n",
       "      <td>0.001250</td>\n",
       "      <td>0.776042</td>\n",
       "      <td>274.5</td>\n",
       "    </tr>\n",
       "    <tr>\n",
       "      <th>2333</th>\n",
       "      <td>2017-04-13</td>\n",
       "      <td>-0.681469</td>\n",
       "      <td>15.96</td>\n",
       "      <td>0</td>\n",
       "      <td>0</td>\n",
       "      <td>0</td>\n",
       "      <td>1</td>\n",
       "      <td>0</td>\n",
       "      <td>0</td>\n",
       "      <td>0</td>\n",
       "      <td>...</td>\n",
       "      <td>0</td>\n",
       "      <td>2.003047</td>\n",
       "      <td>1</td>\n",
       "      <td>37.125000</td>\n",
       "      <td>59.500000</td>\n",
       "      <td>30.270625</td>\n",
       "      <td>11.031250</td>\n",
       "      <td>0.000000</td>\n",
       "      <td>0.531250</td>\n",
       "      <td>415.9</td>\n",
       "    </tr>\n",
       "    <tr>\n",
       "      <th>2334</th>\n",
       "      <td>2017-04-17</td>\n",
       "      <td>0.861335</td>\n",
       "      <td>14.66</td>\n",
       "      <td>1</td>\n",
       "      <td>0</td>\n",
       "      <td>0</td>\n",
       "      <td>0</td>\n",
       "      <td>0</td>\n",
       "      <td>0</td>\n",
       "      <td>0</td>\n",
       "      <td>...</td>\n",
       "      <td>0</td>\n",
       "      <td>1.662700</td>\n",
       "      <td>1</td>\n",
       "      <td>49.696970</td>\n",
       "      <td>72.151515</td>\n",
       "      <td>29.876250</td>\n",
       "      <td>13.696970</td>\n",
       "      <td>0.000000</td>\n",
       "      <td>0.750000</td>\n",
       "      <td>133.1</td>\n",
       "    </tr>\n",
       "  </tbody>\n",
       "</table>\n",
       "<p>5 rows × 74 columns</p>\n",
       "</div>"
      ],
      "text/plain": [
       "           index     value  VIX_Close  Monday  Tuesday  Wednesday  Thursday  \\\n",
       "2330  2017-04-07 -0.082713      12.87       0        0          0         0   \n",
       "2331  2017-04-11 -0.143388      15.07       0        1          0         0   \n",
       "2332  2017-04-12 -0.375995      15.77       0        0          1         0   \n",
       "2333  2017-04-13 -0.681469      15.96       0        0          0         1   \n",
       "2334  2017-04-17  0.861335      14.66       1        0          0         0   \n",
       "\n",
       "      Friday  tax_dummy  week_1  ...  Queens Ozone Data  \\\n",
       "2330       1          0       0  ...                  0   \n",
       "2331       0          0       0  ...                  0   \n",
       "2332       0          0       0  ...                  0   \n",
       "2333       0          0       0  ...                  0   \n",
       "2334       0          0       0  ...                  0   \n",
       "\n",
       "      CO_Daily_8hr_Average_PPM  Queens CO Data  mean_hr_dewpoint_tempF  \\\n",
       "2330                  2.002550               1               38.794872   \n",
       "2331                  2.483085               1               46.437500   \n",
       "2332                  3.311552               1               51.000000   \n",
       "2333                  2.003047               1               37.125000   \n",
       "2334                  1.662700               1               49.696970   \n",
       "\n",
       "      mean_hr_tempF  mean_hr_pressure_psi  mean_hr_windspeed_knots  \\\n",
       "2330      49.641026             29.311290                12.871795   \n",
       "2331      67.156250             30.105000                 8.937500   \n",
       "2332      63.656250             30.101250                 5.437500   \n",
       "2333      59.500000             30.270625                11.031250   \n",
       "2334      72.151515             29.876250                13.696970   \n",
       "\n",
       "      mean_hr_precip_in  mean_hr_clouds_percent  pm2.5_Daily_Lag1  \n",
       "2330           0.020952                0.745968              50.5  \n",
       "2331           0.000000                0.729167             203.5  \n",
       "2332           0.001250                0.776042             274.5  \n",
       "2333           0.000000                0.531250             415.9  \n",
       "2334           0.000000                0.750000             133.1  \n",
       "\n",
       "[5 rows x 74 columns]"
      ]
     },
     "execution_count": 30,
     "metadata": {},
     "output_type": "execute_result"
    }
   ],
   "source": [
    "train.tail()"
   ]
  },
  {
   "cell_type": "code",
   "execution_count": 31,
   "metadata": {},
   "outputs": [
    {
     "data": {
      "text/html": [
       "<div>\n",
       "<style scoped>\n",
       "    .dataframe tbody tr th:only-of-type {\n",
       "        vertical-align: middle;\n",
       "    }\n",
       "\n",
       "    .dataframe tbody tr th {\n",
       "        vertical-align: top;\n",
       "    }\n",
       "\n",
       "    .dataframe thead th {\n",
       "        text-align: right;\n",
       "    }\n",
       "</style>\n",
       "<table border=\"1\" class=\"dataframe\">\n",
       "  <thead>\n",
       "    <tr style=\"text-align: right;\">\n",
       "      <th></th>\n",
       "      <th>index</th>\n",
       "      <th>value</th>\n",
       "      <th>VIX_Close</th>\n",
       "      <th>Monday</th>\n",
       "      <th>Tuesday</th>\n",
       "      <th>Wednesday</th>\n",
       "      <th>Thursday</th>\n",
       "      <th>Friday</th>\n",
       "      <th>tax_dummy</th>\n",
       "      <th>week_1</th>\n",
       "      <th>...</th>\n",
       "      <th>Queens Ozone Data</th>\n",
       "      <th>CO_Daily_8hr_Average_PPM</th>\n",
       "      <th>Queens CO Data</th>\n",
       "      <th>mean_hr_dewpoint_tempF</th>\n",
       "      <th>mean_hr_tempF</th>\n",
       "      <th>mean_hr_pressure_psi</th>\n",
       "      <th>mean_hr_windspeed_knots</th>\n",
       "      <th>mean_hr_precip_in</th>\n",
       "      <th>mean_hr_clouds_percent</th>\n",
       "      <th>pm2.5_Daily_Lag1</th>\n",
       "    </tr>\n",
       "  </thead>\n",
       "  <tbody>\n",
       "    <tr>\n",
       "      <th>2335</th>\n",
       "      <td>2017-04-18</td>\n",
       "      <td>-0.290338</td>\n",
       "      <td>14.42</td>\n",
       "      <td>0</td>\n",
       "      <td>1</td>\n",
       "      <td>0</td>\n",
       "      <td>0</td>\n",
       "      <td>0</td>\n",
       "      <td>0</td>\n",
       "      <td>0</td>\n",
       "      <td>...</td>\n",
       "      <td>0</td>\n",
       "      <td>1.277231</td>\n",
       "      <td>1</td>\n",
       "      <td>31.000000</td>\n",
       "      <td>60.625000</td>\n",
       "      <td>30.223125</td>\n",
       "      <td>11.750000</td>\n",
       "      <td>0.000000</td>\n",
       "      <td>0.447917</td>\n",
       "      <td>122.5</td>\n",
       "    </tr>\n",
       "    <tr>\n",
       "      <th>2336</th>\n",
       "      <td>2017-04-19</td>\n",
       "      <td>-0.171635</td>\n",
       "      <td>14.93</td>\n",
       "      <td>0</td>\n",
       "      <td>0</td>\n",
       "      <td>1</td>\n",
       "      <td>0</td>\n",
       "      <td>0</td>\n",
       "      <td>0</td>\n",
       "      <td>0</td>\n",
       "      <td>...</td>\n",
       "      <td>0</td>\n",
       "      <td>1.087833</td>\n",
       "      <td>1</td>\n",
       "      <td>37.736842</td>\n",
       "      <td>50.605263</td>\n",
       "      <td>30.474375</td>\n",
       "      <td>12.842105</td>\n",
       "      <td>0.000000</td>\n",
       "      <td>0.675000</td>\n",
       "      <td>90.0</td>\n",
       "    </tr>\n",
       "    <tr>\n",
       "      <th>2337</th>\n",
       "      <td>2017-04-20</td>\n",
       "      <td>0.755726</td>\n",
       "      <td>14.15</td>\n",
       "      <td>0</td>\n",
       "      <td>0</td>\n",
       "      <td>0</td>\n",
       "      <td>1</td>\n",
       "      <td>0</td>\n",
       "      <td>0</td>\n",
       "      <td>0</td>\n",
       "      <td>...</td>\n",
       "      <td>0</td>\n",
       "      <td>1.732133</td>\n",
       "      <td>1</td>\n",
       "      <td>45.510638</td>\n",
       "      <td>52.319149</td>\n",
       "      <td>30.169375</td>\n",
       "      <td>8.085106</td>\n",
       "      <td>0.017273</td>\n",
       "      <td>0.967949</td>\n",
       "      <td>96.0</td>\n",
       "    </tr>\n",
       "    <tr>\n",
       "      <th>2338</th>\n",
       "      <td>2017-04-21</td>\n",
       "      <td>-0.303507</td>\n",
       "      <td>14.63</td>\n",
       "      <td>0</td>\n",
       "      <td>0</td>\n",
       "      <td>0</td>\n",
       "      <td>0</td>\n",
       "      <td>1</td>\n",
       "      <td>0</td>\n",
       "      <td>0</td>\n",
       "      <td>...</td>\n",
       "      <td>0</td>\n",
       "      <td>1.370073</td>\n",
       "      <td>1</td>\n",
       "      <td>47.490196</td>\n",
       "      <td>52.705882</td>\n",
       "      <td>29.985937</td>\n",
       "      <td>12.117647</td>\n",
       "      <td>0.009167</td>\n",
       "      <td>0.997093</td>\n",
       "      <td>173.6</td>\n",
       "    </tr>\n",
       "    <tr>\n",
       "      <th>2339</th>\n",
       "      <td>2017-04-24</td>\n",
       "      <td>1.084007</td>\n",
       "      <td>10.84</td>\n",
       "      <td>1</td>\n",
       "      <td>0</td>\n",
       "      <td>0</td>\n",
       "      <td>0</td>\n",
       "      <td>0</td>\n",
       "      <td>0</td>\n",
       "      <td>0</td>\n",
       "      <td>...</td>\n",
       "      <td>0</td>\n",
       "      <td>2.463872</td>\n",
       "      <td>1</td>\n",
       "      <td>42.875000</td>\n",
       "      <td>53.500000</td>\n",
       "      <td>30.129062</td>\n",
       "      <td>7.343750</td>\n",
       "      <td>0.000000</td>\n",
       "      <td>0.911458</td>\n",
       "      <td>96.4</td>\n",
       "    </tr>\n",
       "  </tbody>\n",
       "</table>\n",
       "<p>5 rows × 74 columns</p>\n",
       "</div>"
      ],
      "text/plain": [
       "           index     value  VIX_Close  Monday  Tuesday  Wednesday  Thursday  \\\n",
       "2335  2017-04-18 -0.290338      14.42       0        1          0         0   \n",
       "2336  2017-04-19 -0.171635      14.93       0        0          1         0   \n",
       "2337  2017-04-20  0.755726      14.15       0        0          0         1   \n",
       "2338  2017-04-21 -0.303507      14.63       0        0          0         0   \n",
       "2339  2017-04-24  1.084007      10.84       1        0          0         0   \n",
       "\n",
       "      Friday  tax_dummy  week_1  ...  Queens Ozone Data  \\\n",
       "2335       0          0       0  ...                  0   \n",
       "2336       0          0       0  ...                  0   \n",
       "2337       0          0       0  ...                  0   \n",
       "2338       1          0       0  ...                  0   \n",
       "2339       0          0       0  ...                  0   \n",
       "\n",
       "      CO_Daily_8hr_Average_PPM  Queens CO Data  mean_hr_dewpoint_tempF  \\\n",
       "2335                  1.277231               1               31.000000   \n",
       "2336                  1.087833               1               37.736842   \n",
       "2337                  1.732133               1               45.510638   \n",
       "2338                  1.370073               1               47.490196   \n",
       "2339                  2.463872               1               42.875000   \n",
       "\n",
       "      mean_hr_tempF  mean_hr_pressure_psi  mean_hr_windspeed_knots  \\\n",
       "2335      60.625000             30.223125                11.750000   \n",
       "2336      50.605263             30.474375                12.842105   \n",
       "2337      52.319149             30.169375                 8.085106   \n",
       "2338      52.705882             29.985937                12.117647   \n",
       "2339      53.500000             30.129062                 7.343750   \n",
       "\n",
       "      mean_hr_precip_in  mean_hr_clouds_percent  pm2.5_Daily_Lag1  \n",
       "2335           0.000000                0.447917             122.5  \n",
       "2336           0.000000                0.675000              90.0  \n",
       "2337           0.017273                0.967949              96.0  \n",
       "2338           0.009167                0.997093             173.6  \n",
       "2339           0.000000                0.911458              96.4  \n",
       "\n",
       "[5 rows x 74 columns]"
      ]
     },
     "execution_count": 31,
     "metadata": {},
     "output_type": "execute_result"
    }
   ],
   "source": [
    "test.head()\n",
    "#len(test)"
   ]
  },
  {
   "cell_type": "code",
   "execution_count": 32,
   "metadata": {},
   "outputs": [
    {
     "data": {
      "text/html": [
       "<div>\n",
       "<style scoped>\n",
       "    .dataframe tbody tr th:only-of-type {\n",
       "        vertical-align: middle;\n",
       "    }\n",
       "\n",
       "    .dataframe tbody tr th {\n",
       "        vertical-align: top;\n",
       "    }\n",
       "\n",
       "    .dataframe thead th {\n",
       "        text-align: right;\n",
       "    }\n",
       "</style>\n",
       "<table border=\"1\" class=\"dataframe\">\n",
       "  <thead>\n",
       "    <tr style=\"text-align: right;\">\n",
       "      <th></th>\n",
       "      <th>value</th>\n",
       "      <th>VIX_Close</th>\n",
       "      <th>Monday</th>\n",
       "      <th>Tuesday</th>\n",
       "      <th>Wednesday</th>\n",
       "      <th>Thursday</th>\n",
       "      <th>Friday</th>\n",
       "      <th>tax_dummy</th>\n",
       "      <th>week_1</th>\n",
       "      <th>week_2</th>\n",
       "      <th>...</th>\n",
       "      <th>Queens Ozone Data</th>\n",
       "      <th>CO_Daily_8hr_Average_PPM</th>\n",
       "      <th>Queens CO Data</th>\n",
       "      <th>mean_hr_dewpoint_tempF</th>\n",
       "      <th>mean_hr_tempF</th>\n",
       "      <th>mean_hr_pressure_psi</th>\n",
       "      <th>mean_hr_windspeed_knots</th>\n",
       "      <th>mean_hr_precip_in</th>\n",
       "      <th>mean_hr_clouds_percent</th>\n",
       "      <th>pm2.5_Daily_Lag1</th>\n",
       "    </tr>\n",
       "    <tr>\n",
       "      <th>index</th>\n",
       "      <th></th>\n",
       "      <th></th>\n",
       "      <th></th>\n",
       "      <th></th>\n",
       "      <th></th>\n",
       "      <th></th>\n",
       "      <th></th>\n",
       "      <th></th>\n",
       "      <th></th>\n",
       "      <th></th>\n",
       "      <th></th>\n",
       "      <th></th>\n",
       "      <th></th>\n",
       "      <th></th>\n",
       "      <th></th>\n",
       "      <th></th>\n",
       "      <th></th>\n",
       "      <th></th>\n",
       "      <th></th>\n",
       "      <th></th>\n",
       "      <th></th>\n",
       "    </tr>\n",
       "  </thead>\n",
       "  <tbody>\n",
       "    <tr>\n",
       "      <th>2006-12-27</th>\n",
       "      <td>0.701527</td>\n",
       "      <td>10.64</td>\n",
       "      <td>0</td>\n",
       "      <td>0</td>\n",
       "      <td>1</td>\n",
       "      <td>0</td>\n",
       "      <td>0</td>\n",
       "      <td>0</td>\n",
       "      <td>0</td>\n",
       "      <td>0</td>\n",
       "      <td>...</td>\n",
       "      <td>1</td>\n",
       "      <td>2.533333</td>\n",
       "      <td>1</td>\n",
       "      <td>30.15625</td>\n",
       "      <td>44.81250</td>\n",
       "      <td>29.705938</td>\n",
       "      <td>17.56250</td>\n",
       "      <td>0.0</td>\n",
       "      <td>0.890625</td>\n",
       "      <td>268.0</td>\n",
       "    </tr>\n",
       "    <tr>\n",
       "      <th>2006-12-28</th>\n",
       "      <td>-0.147878</td>\n",
       "      <td>10.99</td>\n",
       "      <td>0</td>\n",
       "      <td>0</td>\n",
       "      <td>0</td>\n",
       "      <td>1</td>\n",
       "      <td>0</td>\n",
       "      <td>0</td>\n",
       "      <td>0</td>\n",
       "      <td>0</td>\n",
       "      <td>...</td>\n",
       "      <td>1</td>\n",
       "      <td>3.533333</td>\n",
       "      <td>1</td>\n",
       "      <td>23.84375</td>\n",
       "      <td>42.25000</td>\n",
       "      <td>30.268750</td>\n",
       "      <td>11.40625</td>\n",
       "      <td>0.0</td>\n",
       "      <td>0.690476</td>\n",
       "      <td>246.1</td>\n",
       "    </tr>\n",
       "    <tr>\n",
       "      <th>2006-12-29</th>\n",
       "      <td>-0.451309</td>\n",
       "      <td>11.56</td>\n",
       "      <td>0</td>\n",
       "      <td>0</td>\n",
       "      <td>0</td>\n",
       "      <td>0</td>\n",
       "      <td>1</td>\n",
       "      <td>0</td>\n",
       "      <td>0</td>\n",
       "      <td>0</td>\n",
       "      <td>...</td>\n",
       "      <td>1</td>\n",
       "      <td>4.170833</td>\n",
       "      <td>1</td>\n",
       "      <td>31.09375</td>\n",
       "      <td>46.87500</td>\n",
       "      <td>30.525938</td>\n",
       "      <td>7.81250</td>\n",
       "      <td>0.0</td>\n",
       "      <td>0.796875</td>\n",
       "      <td>393.5</td>\n",
       "    </tr>\n",
       "    <tr>\n",
       "      <th>2007-01-03</th>\n",
       "      <td>-0.119867</td>\n",
       "      <td>12.04</td>\n",
       "      <td>0</td>\n",
       "      <td>0</td>\n",
       "      <td>1</td>\n",
       "      <td>0</td>\n",
       "      <td>0</td>\n",
       "      <td>1</td>\n",
       "      <td>1</td>\n",
       "      <td>0</td>\n",
       "      <td>...</td>\n",
       "      <td>1</td>\n",
       "      <td>5.487500</td>\n",
       "      <td>1</td>\n",
       "      <td>24.56250</td>\n",
       "      <td>45.28125</td>\n",
       "      <td>30.337812</td>\n",
       "      <td>9.06250</td>\n",
       "      <td>0.0</td>\n",
       "      <td>0.507812</td>\n",
       "      <td>429.0</td>\n",
       "    </tr>\n",
       "    <tr>\n",
       "      <th>2007-01-04</th>\n",
       "      <td>0.122829</td>\n",
       "      <td>11.51</td>\n",
       "      <td>0</td>\n",
       "      <td>0</td>\n",
       "      <td>0</td>\n",
       "      <td>1</td>\n",
       "      <td>0</td>\n",
       "      <td>1</td>\n",
       "      <td>1</td>\n",
       "      <td>0</td>\n",
       "      <td>...</td>\n",
       "      <td>1</td>\n",
       "      <td>5.229167</td>\n",
       "      <td>1</td>\n",
       "      <td>33.75000</td>\n",
       "      <td>49.12500</td>\n",
       "      <td>30.185000</td>\n",
       "      <td>10.68750</td>\n",
       "      <td>0.0</td>\n",
       "      <td>0.687500</td>\n",
       "      <td>370.9</td>\n",
       "    </tr>\n",
       "  </tbody>\n",
       "</table>\n",
       "<p>5 rows × 73 columns</p>\n",
       "</div>"
      ],
      "text/plain": [
       "               value  VIX_Close  Monday  Tuesday  Wednesday  Thursday  Friday  \\\n",
       "index                                                                           \n",
       "2006-12-27  0.701527      10.64       0        0          1         0       0   \n",
       "2006-12-28 -0.147878      10.99       0        0          0         1       0   \n",
       "2006-12-29 -0.451309      11.56       0        0          0         0       1   \n",
       "2007-01-03 -0.119867      12.04       0        0          1         0       0   \n",
       "2007-01-04  0.122829      11.51       0        0          0         1       0   \n",
       "\n",
       "            tax_dummy  week_1  week_2  ...  Queens Ozone Data  \\\n",
       "index                                  ...                      \n",
       "2006-12-27          0       0       0  ...                  1   \n",
       "2006-12-28          0       0       0  ...                  1   \n",
       "2006-12-29          0       0       0  ...                  1   \n",
       "2007-01-03          1       1       0  ...                  1   \n",
       "2007-01-04          1       1       0  ...                  1   \n",
       "\n",
       "            CO_Daily_8hr_Average_PPM  Queens CO Data  mean_hr_dewpoint_tempF  \\\n",
       "index                                                                          \n",
       "2006-12-27                  2.533333               1                30.15625   \n",
       "2006-12-28                  3.533333               1                23.84375   \n",
       "2006-12-29                  4.170833               1                31.09375   \n",
       "2007-01-03                  5.487500               1                24.56250   \n",
       "2007-01-04                  5.229167               1                33.75000   \n",
       "\n",
       "            mean_hr_tempF  mean_hr_pressure_psi  mean_hr_windspeed_knots  \\\n",
       "index                                                                      \n",
       "2006-12-27       44.81250             29.705938                 17.56250   \n",
       "2006-12-28       42.25000             30.268750                 11.40625   \n",
       "2006-12-29       46.87500             30.525938                  7.81250   \n",
       "2007-01-03       45.28125             30.337812                  9.06250   \n",
       "2007-01-04       49.12500             30.185000                 10.68750   \n",
       "\n",
       "            mean_hr_precip_in  mean_hr_clouds_percent  pm2.5_Daily_Lag1  \n",
       "index                                                                    \n",
       "2006-12-27                0.0                0.890625             268.0  \n",
       "2006-12-28                0.0                0.690476             246.1  \n",
       "2006-12-29                0.0                0.796875             393.5  \n",
       "2007-01-03                0.0                0.507812             429.0  \n",
       "2007-01-04                0.0                0.687500             370.9  \n",
       "\n",
       "[5 rows x 73 columns]"
      ]
     },
     "execution_count": 32,
     "metadata": {},
     "output_type": "execute_result"
    }
   ],
   "source": [
    "features_considered = list(train.drop(columns=['index']).columns) \n",
    "features = train_test[features_considered]\n",
    "features.index = train_test['index']\n",
    "features.head()"
   ]
  },
  {
   "cell_type": "code",
   "execution_count": 33,
   "metadata": {},
   "outputs": [
    {
     "data": {
      "text/plain": [
       "array([<matplotlib.axes._subplots.AxesSubplot object at 0x13d2aec88>,\n",
       "       <matplotlib.axes._subplots.AxesSubplot object at 0x13e090c18>,\n",
       "       <matplotlib.axes._subplots.AxesSubplot object at 0x13e473be0>,\n",
       "       <matplotlib.axes._subplots.AxesSubplot object at 0x13e4a3ba8>,\n",
       "       <matplotlib.axes._subplots.AxesSubplot object at 0x13e4d6b70>,\n",
       "       <matplotlib.axes._subplots.AxesSubplot object at 0x13e50db38>],\n",
       "      dtype=object)"
      ]
     },
     "execution_count": 33,
     "metadata": {},
     "output_type": "execute_result"
    },
    {
     "data": {
      "image/png": "[encoded data removed]",
      "text/plain": [
       "<Figure size 432x288 with 6 Axes>"
      ]
     },
     "metadata": {
      "needs_background": "light"
     },
     "output_type": "display_data"
    }
   ],
   "source": [
    "weather = ['mean_hr_dewpoint_tempF', 'mean_hr_tempF', 'mean_hr_pressure_psi', 'mean_hr_windspeed_knots', 'mean_hr_precip_in', 'mean_hr_clouds_percent']\n",
    "features[weather].plot(subplots = True)"
   ]
  },
  {
   "cell_type": "code",
   "execution_count": 34,
   "metadata": {},
   "outputs": [
    {
     "data": {
      "text/plain": [
       "array([<matplotlib.axes._subplots.AxesSubplot object at 0x13dddc390>,\n",
       "       <matplotlib.axes._subplots.AxesSubplot object at 0x13e7d55f8>,\n",
       "       <matplotlib.axes._subplots.AxesSubplot object at 0x13e7655c0>],\n",
       "      dtype=object)"
      ]
     },
     "execution_count": 34,
     "metadata": {},
     "output_type": "execute_result"
    },
    {
     "data": {
      "image/png": "[encoded data removed]",
      "text/plain": [
       "<Figure size 432x288 with 3 Axes>"
      ]
     },
     "metadata": {
      "needs_background": "light"
     },
     "output_type": "display_data"
    }
   ],
   "source": [
    "pollution = ['pm2.5_Daily_Sum_UGPM3', 'ozone_Daily_8hr_Average_PPM', 'CO_Daily_8hr_Average_PPM']\n",
    "features[pollution].plot(subplots = True)"
   ]
  },
  {
   "cell_type": "code",
   "execution_count": 35,
   "metadata": {},
   "outputs": [],
   "source": [
    "dataset = features.values\n",
    "data_mean = dataset[:TRAIN_SPLIT].mean(axis=0)\n",
    "data_std = dataset[:TRAIN_SPLIT].std(axis=0)"
   ]
  },
  {
   "cell_type": "code",
   "execution_count": 36,
   "metadata": {},
   "outputs": [],
   "source": [
    "dataset = (dataset-data_mean)/data_std"
   ]
  },
  {
   "cell_type": "code",
   "execution_count": 37,
   "metadata": {},
   "outputs": [
    {
     "name": "stdout",
     "output_type": "stream",
     "text": [
      "[[ 0.60946152 -1.09176677 -0.47935391 ... -0.38757663  0.78274756\n",
      "   0.29036904]\n",
      " [-0.17995513 -1.04324016 -0.47935391 ... -0.38757663 -0.05412412\n",
      "   0.12970228]\n",
      " [-0.46195594 -0.9642111  -0.47935391 ... -0.38757663  0.39075562\n",
      "   1.21108497]\n",
      " ...\n",
      " [-0.03936226 -0.70494033 -0.47935391 ... -0.38757663  1.18199862\n",
      "   1.38569085]\n",
      " [-0.57977611 -0.51222034  2.08614131 ...  0.91324167  1.2400715\n",
      "  -0.06911367]\n",
      " [ 0.23127524 -0.65641371 -0.47935391 ... -0.02332675  1.11259444\n",
      "  -0.75726628]]\n"
     ]
    }
   ],
   "source": [
    "from pandas import Series\n",
    "from sklearn.preprocessing import StandardScaler\n",
    "from math import sqrt\n",
    "# define contrived series\n",
    "# prepare data for normalization\n",
    "test_dataset = features.values\n",
    "\n",
    "#print(test_dataset)\n",
    "# train the normalization\n",
    "scaler = StandardScaler()\n",
    "scaler = scaler.fit(test_dataset)\n",
    "#print('Mean: %f, StandardDeviation: %f' % (scaler.mean_, sqrt(scaler.var_)))\n",
    "# normalize the dataset and print\n",
    "standardized = scaler.transform(test_dataset)\n",
    "print(standardized)\n",
    "# inverse transform and print\n",
    "inversed = scaler.inverse_transform(standardized)\n",
    "#print(inversed)\n",
    "#print(dataset)"
   ]
  },
  {
   "cell_type": "markdown",
   "metadata": {},
   "source": [
    "### Single Step Model"
   ]
  },
  {
   "cell_type": "code",
   "execution_count": 38,
   "metadata": {},
   "outputs": [],
   "source": [
    "def multivariate_data(dataset, target, start_index, end_index, history_size,\n",
    "                      target_size, step, single_step=False):\n",
    "  data = []\n",
    "  labels = []\n",
    "\n",
    "  start_index = start_index + history_size\n",
    "  if end_index is None:\n",
    "    end_index = len(dataset) - target_size\n",
    "\n",
    "  for i in range(start_index, end_index):\n",
    "    indices = range(i-history_size, i, step)\n",
    "    data.append(dataset[indices])\n",
    "\n",
    "    if single_step:\n",
    "      labels.append(target[i+target_size])\n",
    "    else:\n",
    "      labels.append(target[i:i+target_size])\n",
    "\n",
    "  return np.array(data), np.array(labels)"
   ]
  },
  {
   "cell_type": "markdown",
   "metadata": {},
   "source": [
    "We have to determine how far back to look, which is complicated since we don't have 100% of days accounted for and no weekends. We have approximately 19 days per month on average, so maybe we take the last two months.\n",
    "\n",
    "After some experimentation, 57 days, or about 3 months, seemed to perform better. The sampling is done every one day except weekends, thus, 19 observation represent history of the last average month. For the single step prediction model, the label for a datapoint is the percent return 1 day into the future. In order to create a label for this, the percent return after 1 observations is used. What's complicated is that our data is already lagged so we may have to correct the data."
   ]
  },
  {
   "cell_type": "code",
   "execution_count": 39,
   "metadata": {},
   "outputs": [],
   "source": [
    "#EVALUATION_INTERVAL = len(y_train_single)\n",
    "EPOCHS = 20\n",
    "past_history = 38 # the last 3 months of data\n",
    "future_target = 0 # the next value to predict\n",
    "STEP = 1 # it will take every value rather than skipping any"
   ]
  },
  {
   "cell_type": "code",
   "execution_count": 40,
   "metadata": {},
   "outputs": [],
   "source": [
    "x_train_single, y_train_single = multivariate_data(dataset, dataset[:, 0], 0,\n",
    "                                                   TRAIN_SPLIT, past_history,\n",
    "                                                   future_target, STEP,\n",
    "                                                   single_step=True)\n",
    "x_val_single, y_val_single = multivariate_data(dataset, dataset[:, 0],\n",
    "                                               TRAIN_SPLIT, None, past_history,\n",
    "                                               future_target, STEP,\n",
    "                                               single_step=True)"
   ]
  },
  {
   "cell_type": "code",
   "execution_count": 41,
   "metadata": {},
   "outputs": [],
   "source": [
    "EVALUATION_INTERVAL = len(y_train_single)"
   ]
  },
  {
   "cell_type": "code",
   "execution_count": 42,
   "metadata": {},
   "outputs": [
    {
     "name": "stdout",
     "output_type": "stream",
     "text": [
      "Single window of past history : (38, 73)\n"
     ]
    }
   ],
   "source": [
    "print ('Single window of past history : {}'.format(x_train_single[0].shape))\n"
   ]
  },
  {
   "cell_type": "code",
   "execution_count": 43,
   "metadata": {},
   "outputs": [],
   "source": [
    "train_data_single = tf.data.Dataset.from_tensor_slices((x_train_single, y_train_single))\n",
    "train_data_single = train_data_single.cache().shuffle(BUFFER_SIZE).batch(BATCH_SIZE).repeat()\n",
    "\n",
    "val_data_single = tf.data.Dataset.from_tensor_slices((x_val_single, y_val_single))\n",
    "val_data_single = val_data_single.batch(BATCH_SIZE).repeat()"
   ]
  },
  {
   "cell_type": "markdown",
   "metadata": {},
   "source": [
    "Below in comments we have the basic single step model and then below that is a more advanced single step model."
   ]
  },
  {
   "cell_type": "code",
   "execution_count": 44,
   "metadata": {},
   "outputs": [],
   "source": [
    "single_step_model = tf.keras.models.Sequential()\n",
    "single_step_model.add(tf.keras.layers.LSTM(72,\n",
    "                                          return_sequences=True,\n",
    "                                          input_shape=x_train_single.shape[-2:]))\n",
    "single_step_model.add(tf.keras.layers.LSTM(72, activation='relu', return_sequences=True, dropout=0.2, recurrent_dropout=0.2))\n",
    "single_step_model.add(tf.keras.layers.LSTM(72, activation='relu', return_sequences=True, dropout=0.2, recurrent_dropout=0.2))\n",
    "single_step_model.add(tf.keras.layers.LSTM(72, activation='relu', dropout=0.2, recurrent_dropout=0.2))\n",
    "single_step_model.add(tf.keras.layers.Dense(1))\n",
    "\n",
    "single_step_model.compile(optimizer=tf.keras.optimizers.RMSprop(clipvalue=1.0, learning_rate=0.001), loss='mse', metrics=['mse','mae', 'accuracy', tf.keras.metrics.RootMeanSquaredError()]) # use MSE because we use RMSE"
   ]
  },
  {
   "cell_type": "markdown",
   "metadata": {},
   "source": [
    "Sample prediction"
   ]
  },
  {
   "cell_type": "code",
   "execution_count": 45,
   "metadata": {},
   "outputs": [
    {
     "name": "stdout",
     "output_type": "stream",
     "text": [
      "(389, 1)\n"
     ]
    }
   ],
   "source": [
    "for x, y in val_data_single.take(1):\n",
    "  print(single_step_model.predict(x).shape)"
   ]
  },
  {
   "cell_type": "code",
   "execution_count": 46,
   "metadata": {},
   "outputs": [
    {
     "name": "stdout",
     "output_type": "stream",
     "text": [
      "Epoch 1/20\n",
      "2297/2297 [==============================] - 1415s 616ms/step - loss: 0.4589 - mse: 0.4589 - mae: 0.4596 - accuracy: 0.0000e+00 - root_mean_squared_error: 0.6774 - val_loss: 0.9974 - val_mse: 0.9974 - val_mae: 0.6845 - val_accuracy: 0.0000e+00 - val_root_mean_squared_error: 0.9987\n",
      "Epoch 2/20\n",
      "2297/2297 [==============================] - 1177s 512ms/step - loss: 0.0424 - mse: 0.0424 - mae: 0.1526 - accuracy: 0.0000e+00 - root_mean_squared_error: 0.2058 - val_loss: 0.7383 - val_mse: 0.7383 - val_mae: 0.6106 - val_accuracy: 0.0000e+00 - val_root_mean_squared_error: 0.8592\n",
      "Epoch 3/20\n",
      "2297/2297 [==============================] - 1147s 500ms/step - loss: 0.0190 - mse: 0.0190 - mae: 0.1009 - accuracy: 0.0000e+00 - root_mean_squared_error: 0.1377 - val_loss: 0.7229 - val_mse: 0.7229 - val_mae: 0.6088 - val_accuracy: 0.0000e+00 - val_root_mean_squared_error: 0.8503\n",
      "Epoch 4/20\n",
      "2297/2297 [==============================] - 1173s 511ms/step - loss: 0.0128 - mse: 0.0128 - mae: 0.0825 - accuracy: 0.0000e+00 - root_mean_squared_error: 0.1130 - val_loss: 0.7031 - val_mse: 0.7031 - val_mae: 0.5961 - val_accuracy: 0.0000e+00 - val_root_mean_squared_error: 0.8385\n",
      "Epoch 5/20\n",
      "2297/2297 [==============================] - 1299s 566ms/step - loss: 0.0096 - mse: 0.0096 - mae: 0.0715 - accuracy: 0.0000e+00 - root_mean_squared_error: 0.0981 - val_loss: 0.6933 - val_mse: 0.6933 - val_mae: 0.5945 - val_accuracy: 0.0000e+00 - val_root_mean_squared_error: 0.8326\n",
      "Epoch 6/20\n",
      "2297/2297 [==============================] - 1134s 494ms/step - loss: 0.0076 - mse: 0.0076 - mae: 0.0638 - accuracy: 0.0000e+00 - root_mean_squared_error: 0.0874 - val_loss: 0.6629 - val_mse: 0.6629 - val_mae: 0.5792 - val_accuracy: 0.0000e+00 - val_root_mean_squared_error: 0.8142\n",
      "Epoch 7/20\n",
      "2297/2297 [==============================] - 1149s 500ms/step - loss: 0.0063 - mse: 0.0063 - mae: 0.0578 - accuracy: 0.0000e+00 - root_mean_squared_error: 0.0793 - val_loss: 0.6716 - val_mse: 0.6716 - val_mae: 0.5865 - val_accuracy: 0.0000e+00 - val_root_mean_squared_error: 0.8195\n",
      "Epoch 8/20\n",
      "2297/2297 [==============================] - 1139s 496ms/step - loss: 0.0053 - mse: 0.0053 - mae: 0.0531 - accuracy: 0.0000e+00 - root_mean_squared_error: 0.0727 - val_loss: 0.6608 - val_mse: 0.6608 - val_mae: 0.5807 - val_accuracy: 0.0000e+00 - val_root_mean_squared_error: 0.8129\n",
      "Epoch 9/20\n",
      "2297/2297 [==============================] - 1143s 497ms/step - loss: 0.0045 - mse: 0.0045 - mae: 0.0489 - accuracy: 0.0000e+00 - root_mean_squared_error: 0.0672 - val_loss: 0.6407 - val_mse: 0.6407 - val_mae: 0.5706 - val_accuracy: 0.0000e+00 - val_root_mean_squared_error: 0.8004\n",
      "Epoch 10/20\n",
      "2297/2297 [==============================] - 1140s 496ms/step - loss: 0.0040 - mse: 0.0040 - mae: 0.0456 - accuracy: 0.0000e+00 - root_mean_squared_error: 0.0629 - val_loss: 0.6684 - val_mse: 0.6684 - val_mae: 0.5842 - val_accuracy: 0.0000e+00 - val_root_mean_squared_error: 0.8176\n",
      "Epoch 11/20\n",
      "2297/2297 [==============================] - 1142s 497ms/step - loss: 0.0035 - mse: 0.0035 - mae: 0.0426 - accuracy: 0.0000e+00 - root_mean_squared_error: 0.0590 - val_loss: 0.6660 - val_mse: 0.6660 - val_mae: 0.5833 - val_accuracy: 0.0000e+00 - val_root_mean_squared_error: 0.8161\n",
      "Epoch 12/20\n",
      "2297/2297 [==============================] - 1141s 497ms/step - loss: 0.0030 - mse: 0.0030 - mae: 0.0398 - accuracy: 0.0000e+00 - root_mean_squared_error: 0.0551 - val_loss: 0.6903 - val_mse: 0.6903 - val_mae: 0.5949 - val_accuracy: 0.0000e+00 - val_root_mean_squared_error: 0.8309\n",
      "Epoch 13/20\n",
      "2297/2297 [==============================] - 1142s 497ms/step - loss: 0.0027 - mse: 0.0027 - mae: 0.0376 - accuracy: 0.0000e+00 - root_mean_squared_error: 0.0524 - val_loss: 0.6708 - val_mse: 0.6708 - val_mae: 0.5866 - val_accuracy: 0.0000e+00 - val_root_mean_squared_error: 0.8190\n",
      "Epoch 14/20\n",
      "2297/2297 [==============================] - 1142s 497ms/step - loss: 0.0025 - mse: 0.0025 - mae: 0.0355 - accuracy: 0.0000e+00 - root_mean_squared_error: 0.0497 - val_loss: 0.6541 - val_mse: 0.6541 - val_mae: 0.5844 - val_accuracy: 0.0000e+00 - val_root_mean_squared_error: 0.8088\n",
      "Epoch 15/20\n",
      "2297/2297 [==============================] - 1145s 498ms/step - loss: 0.0023 - mse: 0.0023 - mae: 0.0337 - accuracy: 0.0000e+00 - root_mean_squared_error: 0.0474 - val_loss: 0.6662 - val_mse: 0.6662 - val_mae: 0.5895 - val_accuracy: 0.0000e+00 - val_root_mean_squared_error: 0.8162\n",
      "Epoch 16/20\n",
      "2297/2297 [==============================] - 1143s 498ms/step - loss: 0.0021 - mse: 0.0021 - mae: 0.0321 - accuracy: 0.0000e+00 - root_mean_squared_error: 0.0454 - val_loss: 0.6578 - val_mse: 0.6578 - val_mae: 0.5844 - val_accuracy: 0.0000e+00 - val_root_mean_squared_error: 0.8110\n",
      "Epoch 17/20\n",
      "2297/2297 [==============================] - 1142s 497ms/step - loss: 0.0019 - mse: 0.0019 - mae: 0.0307 - accuracy: 0.0000e+00 - root_mean_squared_error: 0.0436 - val_loss: 0.6572 - val_mse: 0.6572 - val_mae: 0.5866 - val_accuracy: 0.0000e+00 - val_root_mean_squared_error: 0.8107\n",
      "Epoch 18/20\n",
      "2297/2297 [==============================] - 1143s 498ms/step - loss: 0.0018 - mse: 0.0018 - mae: 0.0295 - accuracy: 0.0000e+00 - root_mean_squared_error: 0.0421 - val_loss: 0.6298 - val_mse: 0.6298 - val_mae: 0.5731 - val_accuracy: 0.0000e+00 - val_root_mean_squared_error: 0.7936\n",
      "Epoch 19/20\n",
      "2297/2297 [==============================] - 1145s 498ms/step - loss: 0.0016 - mse: 0.0016 - mae: 0.0283 - accuracy: 0.0000e+00 - root_mean_squared_error: 0.0404 - val_loss: 0.6361 - val_mse: 0.6361 - val_mae: 0.5748 - val_accuracy: 0.0000e+00 - val_root_mean_squared_error: 0.7976\n",
      "Epoch 20/20\n",
      "2297/2297 [==============================] - 1143s 498ms/step - loss: 0.0015 - mse: 0.0015 - mae: 0.0272 - accuracy: 0.0000e+00 - root_mean_squared_error: 0.0390 - val_loss: 0.6366 - val_mse: 0.6366 - val_mae: 0.5729 - val_accuracy: 0.0000e+00 - val_root_mean_squared_error: 0.7979\n"
     ]
    }
   ],
   "source": [
    "tf.random.set_seed(20200714)\n",
    "single_step_history = single_step_model.fit(train_data_single, epochs=EPOCHS,\n",
    "                                            steps_per_epoch=EVALUATION_INTERVAL,\n",
    "                                            validation_data=val_data_single,\n",
    "                                            validation_steps=1)"
   ]
  },
  {
   "cell_type": "markdown",
   "metadata": {},
   "source": [
    "Validation RMSE is 0.7979"
   ]
  },
  {
   "cell_type": "code",
   "execution_count": 47,
   "metadata": {},
   "outputs": [],
   "source": [
    "def plot_train_history(history, title):\n",
    "  loss = history.history['loss']\n",
    "  val_loss = history.history['val_loss']\n",
    "  #loss = history.history['root_mean_squared_error']\n",
    "  #val_loss = history.history['val_root_mean_squared_error']\n",
    "    \n",
    "  epochs = range(len(loss))\n",
    "\n",
    "  plt.figure()\n",
    "\n",
    "  plt.plot(epochs, loss, 'b', label='Training loss (MSE)')\n",
    "  plt.plot(epochs, val_loss, 'r', label='Validation loss (MSE)')\n",
    "  plt.title(title)\n",
    "  plt.legend()\n",
    "\n",
    "  plt.show()"
   ]
  },
  {
   "cell_type": "code",
   "execution_count": 48,
   "metadata": {},
   "outputs": [
    {
     "data": {
      "image/png": "[encoded data removed]",
      "text/plain": [
       "<Figure size 432x288 with 1 Axes>"
      ]
     },
     "metadata": {
      "needs_background": "light"
     },
     "output_type": "display_data"
    }
   ],
   "source": [
    "plot_train_history(single_step_history,\n",
    "                   'Single Step Training and validation loss')"
   ]
  },
  {
   "cell_type": "code",
   "execution_count": 49,
   "metadata": {},
   "outputs": [],
   "source": [
    "def plot_train_history_rmse(history, title):\n",
    "  loss = history.history['root_mean_squared_error']\n",
    "  val_loss = history.history['val_root_mean_squared_error']\n",
    "    \n",
    "  epochs = range(len(loss))\n",
    "\n",
    "  plt.figure()\n",
    "\n",
    "  plt.plot(epochs, loss, 'b', label='Training loss (RMSE)')\n",
    "  plt.plot(epochs, val_loss, 'r', label='Validation loss (RMSE)')\n",
    "  plt.title(title)\n",
    "  plt.legend()\n",
    "\n",
    "  plt.show()"
   ]
  },
  {
   "cell_type": "code",
   "execution_count": 50,
   "metadata": {},
   "outputs": [
    {
     "data": {
      "image/png": "[encoded data removed]",
      "text/plain": [
       "<Figure size 432x288 with 1 Axes>"
      ]
     },
     "metadata": {
      "needs_background": "light"
     },
     "output_type": "display_data"
    }
   ],
   "source": [
    "plot_train_history_rmse(single_step_history,\n",
    "                   'Single Step Training and validation loss')"
   ]
  },
  {
   "cell_type": "code",
   "execution_count": 51,
   "metadata": {},
   "outputs": [],
   "source": [
    "#for x, y in val_data_single.take(5):\n",
    "#  plot = show_plot([x[0][:, 1].numpy(), y[0].numpy(),\n",
    "#                    single_step_model.predict(x)[0]], 0,\n",
    "#                   'Single Step Prediction')\n",
    "#  plot.show()"
   ]
  },
  {
   "cell_type": "code",
   "execution_count": 52,
   "metadata": {},
   "outputs": [
    {
     "data": {
      "image/png": "[encoded data removed]",
      "text/plain": [
       "<Figure size 432x288 with 1 Axes>"
      ]
     },
     "metadata": {
      "needs_background": "light"
     },
     "output_type": "display_data"
    }
   ],
   "source": [
    "plt.plot(single_step_history.history['mse'])\n",
    "plt.show()"
   ]
  },
  {
   "cell_type": "code",
   "execution_count": 53,
   "metadata": {},
   "outputs": [
    {
     "data": {
      "image/png": "[encoded data removed]",
      "text/plain": [
       "<Figure size 432x288 with 1 Axes>"
      ]
     },
     "metadata": {
      "needs_background": "light"
     },
     "output_type": "display_data"
    }
   ],
   "source": [
    "plt.plot(single_step_history.history['root_mean_squared_error'])\n",
    "plt.show()"
   ]
  },
  {
   "cell_type": "code",
   "execution_count": 54,
   "metadata": {},
   "outputs": [
    {
     "data": {
      "image/png": "[encoded data removed]",
      "text/plain": [
       "<Figure size 432x288 with 1 Axes>"
      ]
     },
     "metadata": {
      "needs_background": "light"
     },
     "output_type": "display_data"
    }
   ],
   "source": [
    "plt.plot(single_step_history.history['val_root_mean_squared_error'])\n",
    "plt.show()"
   ]
  },
  {
   "cell_type": "code",
   "execution_count": 55,
   "metadata": {},
   "outputs": [
    {
     "name": "stdout",
     "output_type": "stream",
     "text": [
      "0.7978781461715698\n"
     ]
    }
   ],
   "source": [
    "value = float(single_step_history.history['val_root_mean_squared_error'][EPOCHS-1])\n",
    "print(value)"
   ]
  },
  {
   "cell_type": "markdown",
   "metadata": {},
   "source": [
    "So the single step models' RMSE is 0.7844660878181458"
   ]
  },
  {
   "cell_type": "code",
   "execution_count": 56,
   "metadata": {},
   "outputs": [
    {
     "data": {
      "text/plain": [
       "0.7978781461715698"
      ]
     },
     "execution_count": 56,
     "metadata": {},
     "output_type": "execute_result"
    }
   ],
   "source": [
    "single_step_history.history['val_root_mean_squared_error'][EPOCHS-1]"
   ]
  },
  {
   "cell_type": "code",
   "execution_count": 57,
   "metadata": {},
   "outputs": [],
   "source": [
    "def multi_step_plot(history, true_future, prediction):\n",
    "  plt.figure(figsize=(12, 6))\n",
    "  num_in = create_time_steps(len(history))\n",
    "  num_out = len(true_future)\n",
    "\n",
    "  plt.plot(num_in, np.array(history[:, 1]), label='History')\n",
    "  plt.plot(np.arange(num_out)/STEP, np.array(true_future), 'bo',\n",
    "           label='True Future')\n",
    "  if prediction.any():\n",
    "    plt.plot(np.arange(num_out)/STEP, np.array(prediction), 'ro',\n",
    "             label='Predicted Future')\n",
    "  plt.legend(loc='upper left')\n",
    "  plt.show()"
   ]
  },
  {
   "cell_type": "code",
   "execution_count": 58,
   "metadata": {},
   "outputs": [],
   "source": [
    "#for x, y in train_data_single.take(3):\n",
    "#  multi_step_plot(x[0], y[0], np.array([0]))"
   ]
  },
  {
   "cell_type": "markdown",
   "metadata": {},
   "source": [
    "Since the task here is a bit more complicated than the previous task, the model now consists of 4 LSTM layers. Finally, since 1, the dense layer output 1 predictions.\n",
    "\n",
    "Below we have a basic model followed by a more complicated model used in the final project."
   ]
  },
  {
   "cell_type": "markdown",
   "metadata": {},
   "source": [
    "I think we should use MSE vs mae for the loss function since we are concerned with RMSE, correct?"
   ]
  },
  {
   "cell_type": "code",
   "execution_count": 59,
   "metadata": {},
   "outputs": [
    {
     "data": {
      "image/png": "[encoded data removed]",
      "text/plain": [
       "<Figure size 432x288 with 1 Axes>"
      ]
     },
     "metadata": {
      "needs_background": "light"
     },
     "output_type": "display_data"
    }
   ],
   "source": [
    "plot_train_history(single_step_history, 'Single-Step Training and validation loss')"
   ]
  },
  {
   "cell_type": "code",
   "execution_count": 60,
   "metadata": {},
   "outputs": [],
   "source": [
    "#for x, y in val_data_single.take(3):\n",
    "#  multi_step_plot(x[0], y[0], single_step_model.predict(x)[0])"
   ]
  },
  {
   "cell_type": "code",
   "execution_count": 61,
   "metadata": {},
   "outputs": [
    {
     "name": "stdout",
     "output_type": "stream",
     "text": [
      "Model: \"sequential_1\"\n",
      "_________________________________________________________________\n",
      "Layer (type)                 Output Shape              Param #   \n",
      "=================================================================\n",
      "lstm_1 (LSTM)                (None, 38, 72)            42048     \n",
      "_________________________________________________________________\n",
      "lstm_2 (LSTM)                (None, 38, 72)            41760     \n",
      "_________________________________________________________________\n",
      "lstm_3 (LSTM)                (None, 38, 72)            41760     \n",
      "_________________________________________________________________\n",
      "lstm_4 (LSTM)                (None, 72)                41760     \n",
      "_________________________________________________________________\n",
      "dense_1 (Dense)              (None, 1)                 73        \n",
      "=================================================================\n",
      "Total params: 167,401\n",
      "Trainable params: 167,401\n",
      "Non-trainable params: 0\n",
      "_________________________________________________________________\n"
     ]
    }
   ],
   "source": [
    "single_step_model.summary()"
   ]
  },
  {
   "cell_type": "code",
   "execution_count": 62,
   "metadata": {},
   "outputs": [
    {
     "data": {
      "image/png": "[encoded data removed]",
      "text/plain": [
       "<Figure size 432x288 with 1 Axes>"
      ]
     },
     "metadata": {
      "needs_background": "light"
     },
     "output_type": "display_data"
    }
   ],
   "source": [
    "plt.plot(single_step_history.history['mse'])\n",
    "plt.show()"
   ]
  },
  {
   "cell_type": "code",
   "execution_count": 63,
   "metadata": {},
   "outputs": [
    {
     "data": {
      "text/plain": [
       "0.6366094946861267"
      ]
     },
     "execution_count": 63,
     "metadata": {},
     "output_type": "execute_result"
    }
   ],
   "source": [
    "value = float(single_step_history.history['val_mse'][19])\n",
    "value"
   ]
  },
  {
   "cell_type": "markdown",
   "metadata": {},
   "source": [
    "## Getting RMSE"
   ]
  },
  {
   "cell_type": "code",
   "execution_count": 64,
   "metadata": {},
   "outputs": [],
   "source": [
    "#print(multi_step_history.history['loss'])\n",
    "#print(multi_step_history.history['accuracy'])\n",
    "#print(multi_step_history.result().numpy())"
   ]
  },
  {
   "cell_type": "code",
   "execution_count": 65,
   "metadata": {},
   "outputs": [
    {
     "data": {
      "image/png": "[encoded data removed]",
      "text/plain": [
       "<Figure size 432x288 with 1 Axes>"
      ]
     },
     "metadata": {
      "needs_background": "light"
     },
     "output_type": "display_data"
    }
   ],
   "source": [
    "plt.plot(single_step_history.history['root_mean_squared_error'])\n",
    "plt.show()\n"
   ]
  },
  {
   "cell_type": "code",
   "execution_count": 66,
   "metadata": {},
   "outputs": [
    {
     "data": {
      "image/png": "[encoded data removed]",
      "text/plain": [
       "<Figure size 432x288 with 1 Axes>"
      ]
     },
     "metadata": {
      "needs_background": "light"
     },
     "output_type": "display_data"
    }
   ],
   "source": [
    "plt.plot(single_step_history.history['val_root_mean_squared_error'])\n",
    "plt.show()\n"
   ]
  },
  {
   "cell_type": "code",
   "execution_count": 67,
   "metadata": {},
   "outputs": [
    {
     "data": {
      "text/plain": [
       "0.7978781461715698"
      ]
     },
     "execution_count": 67,
     "metadata": {},
     "output_type": "execute_result"
    }
   ],
   "source": [
    "single_step_history.history['val_root_mean_squared_error'][19]"
   ]
  },
  {
   "cell_type": "code",
   "execution_count": 68,
   "metadata": {},
   "outputs": [
    {
     "data": {
      "text/plain": [
       "0.03898954018950462"
      ]
     },
     "execution_count": 68,
     "metadata": {},
     "output_type": "execute_result"
    }
   ],
   "source": [
    "single_step_history.history['root_mean_squared_error'][19]"
   ]
  },
  {
   "cell_type": "markdown",
   "metadata": {},
   "source": [
    "# Trying to export an array of predicted values"
   ]
  },
  {
   "cell_type": "code",
   "execution_count": 69,
   "metadata": {},
   "outputs": [],
   "source": [
    "single_predictions = single_step_model.predict(x_val_single)\n",
    "#plot = show_plot(y_val_single, single_predictions.numpy(), 'Single Step Prediction')\n",
    "#plot.show()"
   ]
  },
  {
   "cell_type": "code",
   "execution_count": 70,
   "metadata": {},
   "outputs": [
    {
     "data": {
      "text/plain": [
       "592"
      ]
     },
     "execution_count": 70,
     "metadata": {},
     "output_type": "execute_result"
    }
   ],
   "source": [
    "len(y_val_single)\n",
    "#y_val_single"
   ]
  },
  {
   "cell_type": "code",
   "execution_count": 71,
   "metadata": {},
   "outputs": [
    {
     "data": {
      "text/plain": [
       "592"
      ]
     },
     "execution_count": 71,
     "metadata": {},
     "output_type": "execute_result"
    }
   ],
   "source": [
    "len(x_val_single)"
   ]
  },
  {
   "cell_type": "code",
   "execution_count": 72,
   "metadata": {},
   "outputs": [
    {
     "data": {
      "text/plain": [
       "592"
      ]
     },
     "execution_count": 72,
     "metadata": {},
     "output_type": "execute_result"
    }
   ],
   "source": [
    "predictions = single_step_model.predict(x_val_single)\n",
    "len(predictions)\n",
    "#predictions"
   ]
  },
  {
   "cell_type": "code",
   "execution_count": 73,
   "metadata": {},
   "outputs": [
    {
     "data": {
      "text/plain": [
       "(592, 1)"
      ]
     },
     "execution_count": 73,
     "metadata": {},
     "output_type": "execute_result"
    }
   ],
   "source": [
    "predictions.shape"
   ]
  },
  {
   "cell_type": "code",
   "execution_count": 74,
   "metadata": {},
   "outputs": [
    {
     "data": {
      "text/plain": [
       "(592,)"
      ]
     },
     "execution_count": 74,
     "metadata": {},
     "output_type": "execute_result"
    }
   ],
   "source": [
    "y_val_single.shape"
   ]
  },
  {
   "cell_type": "code",
   "execution_count": 75,
   "metadata": {},
   "outputs": [
    {
     "data": {
      "text/plain": [
       "2"
      ]
     },
     "execution_count": 75,
     "metadata": {},
     "output_type": "execute_result"
    }
   ],
   "source": [
    "# Reshape to get it in the proper 2D format\n",
    "\n",
    "y_val_single_norm = np.reshape(y_val_single, (592, 1))\n",
    "\n",
    "y_val_single_norm.ndim"
   ]
  },
  {
   "cell_type": "code",
   "execution_count": 76,
   "metadata": {},
   "outputs": [
    {
     "data": {
      "text/plain": [
       "(592, 73)"
      ]
     },
     "execution_count": 76,
     "metadata": {},
     "output_type": "execute_result"
    }
   ],
   "source": [
    "#dataset = (dataset-data_mean)/data_std\n",
    "\n",
    "#pred_norm = (predictions*test_std)+test_mean\n",
    "pred_norm = (predictions*data_std)+data_mean\n",
    "pred_norm.shape"
   ]
  },
  {
   "cell_type": "code",
   "execution_count": 77,
   "metadata": {},
   "outputs": [
    {
     "data": {
      "text/plain": [
       "(592, 73)"
      ]
     },
     "execution_count": 77,
     "metadata": {},
     "output_type": "execute_result"
    }
   ],
   "source": [
    "#y_val_single_norm = (y_val_single_norm*test_std)+test_mean\n",
    "y_val_single_norm = (y_val_single_norm*data_std)+data_mean\n",
    "y_val_single_norm.shape"
   ]
  },
  {
   "cell_type": "code",
   "execution_count": 78,
   "metadata": {},
   "outputs": [],
   "source": [
    "#pd.DataFrame(y_val_single).to_csv(\"/Users/mw2931/Desktop/Thesis/LSTM/lstm_true_values.csv\")\n",
    "#pd.DataFrame(predictions).to_csv(\"/Users/mw2931/Desktop/Thesis/LSTM/lstm_predicted_values.csv\")\n"
   ]
  },
  {
   "cell_type": "code",
   "execution_count": 79,
   "metadata": {},
   "outputs": [],
   "source": [
    "pd.DataFrame(y_val_single_norm).to_csv(\"/Users/mw2931/Desktop/Thesis/LSTM/lstm_true_values_normalized_ADJUSTED_lowrmse.csv\")\n",
    "pd.DataFrame(pred_norm).to_csv(\"/Users/mw2931/Desktop/Thesis/LSTM/lstm_predicted_values_normalized_ADJUSTED_lowrmse.csv\")\n"
   ]
  },
  {
   "cell_type": "code",
   "execution_count": 80,
   "metadata": {},
   "outputs": [
    {
     "name": "stdout",
     "output_type": "stream",
     "text": [
      "success\n"
     ]
    }
   ],
   "source": [
    "print(\"success\")"
   ]
  },
  {
   "cell_type": "code",
   "execution_count": null,
   "metadata": {},
   "outputs": [],
   "source": []
  }
 ],
 "metadata": {
  "kernelspec": {
   "display_name": "Python 3",
   "language": "python",
   "name": "python3"
  },
  "language_info": {
   "codemirror_mode": {
    "name": "ipython",
    "version": 3
   },
   "file_extension": ".py",
   "mimetype": "text/x-python",
   "name": "python",
   "nbconvert_exporter": "python",
   "pygments_lexer": "ipython3",
   "version": "3.7.3"
  }
 },
 "nbformat": 4,
 "nbformat_minor": 4
}
